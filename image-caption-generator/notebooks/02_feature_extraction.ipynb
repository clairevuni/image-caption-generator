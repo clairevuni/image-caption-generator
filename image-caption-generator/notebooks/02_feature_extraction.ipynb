{
 "cells": [
  {
   "cell_type": "code",
   "execution_count": 3,
   "id": "89e5c973",
   "metadata": {},
   "outputs": [
    {
     "name": "stdout",
     "output_type": "stream",
     "text": [
      "Downloading data from https://storage.googleapis.com/tensorflow/keras-applications/inception_v3/inception_v3_weights_tf_dim_ordering_tf_kernels_notop.h5\n",
      "\u001b[1m87910968/87910968\u001b[0m \u001b[32m━━━━━━━━━━━━━━━━━━━━\u001b[0m\u001b[37m\u001b[0m \u001b[1m34s\u001b[0m 0us/step\n"
     ]
    }
   ],
   "source": [
    "# adesso si pensa all'estrazione delle feature\n",
    "\n",
    "from tensorflow.keras.applications.inception_v3 import InceptionV3\n",
    "\n",
    "\n",
    "pre_trained_model = InceptionV3(input_shape = (150, 150, 3),\n",
    "                                include_top = False,\n",
    "                                weights = 'imagenet')\n",
    "\n",
    "for layer in pre_trained_model.layers:\n",
    "    layer.trainable = False"
   ]
  },
  {
   "cell_type": "code",
   "execution_count": 6,
   "id": "31a25f08",
   "metadata": {},
   "outputs": [],
   "source": [
    "from tensorflow.keras.optimizers import RMSprop\n",
    "from tensorflow.keras import layers\n",
    "from tensorflow.keras.models import Model\n",
    "\n",
    "# appiattiamo i layers ad 1 dimensione ok\n",
    "x = layers.Flatten()(pre_trained_model.output)\n",
    "# e aggiungiamo un layer fully connected con 1024 hidden units and Relu activation\n",
    "x = layers.Dense(1024, activation = 'relu')(x)\n",
    "\n",
    "#dropout rate di 0.2 cosi non perdiamo tempo\n",
    "x = layers.Dropout(0.2)(x)\n",
    "\n",
    "x = layers.Dense (1, activation= 'sigmoid') (x)\n",
    "\n",
    "model = Model(pre_trained_model.input, x)\n",
    "\n",
    "model.compile(optimizer = RMSprop(learning_rate=0.0001),\n",
    "              loss ='binary_crossentropy',\n",
    "              metrics = ['acc'])"
   ]
  },
  {
   "cell_type": "code",
   "execution_count": 9,
   "id": "015c757c",
   "metadata": {},
   "outputs": [],
   "source": [
    "import os\n",
    "import random\n",
    "import shutil\n",
    "\n",
    "data_path = r\"..\\data\\Flickr8k_Dataset\\Images\"\n",
    "\n",
    "\n",
    "train_folder = os.path.join(data_path, 'train')\n",
    "val_folder = os.path.join(data_path, 'val')\n",
    "test_folder = os.path.join(data_path, 'test')\n",
    "\n",
    "\n",
    "image_extensions = ['.jpg']\n",
    "\n",
    "\n",
    "imgs_list = [filename for filename in os.listdir(data_path) if os.path.splitext(filename)[-1] in image_extensions]\n",
    "\n",
    "random.seed(42)\n",
    "\n",
    "random.shuffle(imgs_list)\n",
    "\n",
    "\n",
    "train_size = int(len(imgs_list) * 0.70)\n",
    "val_size = int(len(imgs_list) * 0.15)\n",
    "test_size = int(len(imgs_list) * 0.15)\n",
    "\n",
    "for folder_path in [train_folder, val_folder, test_folder]:\n",
    "    if not os.path.exists(folder_path):\n",
    "        os.makedirs(folder_path)\n",
    "\n",
    "\n",
    "for i, f in enumerate(imgs_list):\n",
    "    if i < train_size:\n",
    "        dest_folder = train_folder\n",
    "    elif i < train_size + val_size:\n",
    "        dest_folder = val_folder\n",
    "    else:\n",
    "        dest_folder = test_folder\n",
    "    shutil.copy(os.path.join(data_path, f), os.path.join(dest_folder, f))"
   ]
  },
  {
   "cell_type": "code",
   "execution_count": 12,
   "id": "a76dec6c",
   "metadata": {},
   "outputs": [
    {
     "name": "stdout",
     "output_type": "stream",
     "text": [
      "Downloading data from https://storage.googleapis.com/tensorflow/keras-applications/inception_v3/inception_v3_weights_tf_dim_ordering_tf_kernels.h5\n",
      "\u001b[1m96112376/96112376\u001b[0m \u001b[32m━━━━━━━━━━━━━━━━━━━━\u001b[0m\u001b[37m\u001b[0m \u001b[1m31s\u001b[0m 0us/step\n"
     ]
    },
    {
     "name": "stderr",
     "output_type": "stream",
     "text": [
      "100%|██████████| 8091/8091 [27:58<00:00,  4.82it/s]  \n"
     ]
    },
    {
     "name": "stdout",
     "output_type": "stream",
     "text": [
      "✔️ Estrazione delle feature completata.\n"
     ]
    }
   ],
   "source": [
    "from tensorflow.keras.applications.inception_v3 import InceptionV3, preprocess_input\n",
    "from tensorflow.keras.preprocessing import image\n",
    "from tensorflow.keras.models import Model\n",
    "import numpy as np\n",
    "import os\n",
    "import glob\n",
    "import tqdm\n",
    "import pickle\n",
    "\n",
    "# Modello CNN pre-addestrato (InceptionV3)\n",
    "base_model = InceptionV3(weights='imagenet')\n",
    "model = Model(inputs=base_model.input, outputs=base_model.get_layer('avg_pool').output)\n",
    "\n",
    "# Funzione per estrarre le feature da una singola immagine\n",
    "def extract_feature(img_path, model):\n",
    "    img = image.load_img(img_path, target_size=(299, 299))  # Inception richiede questa dimensione\n",
    "    x = image.img_to_array(img)\n",
    "    x = np.expand_dims(x, axis=0)\n",
    "    x = preprocess_input(x)\n",
    "    feature = model.predict(x, verbose=0)\n",
    "    return feature.reshape(2048,)\n",
    "\n",
    "# Percorso delle immagini\n",
    "images_path = \"../data/Flickr8k_Dataset/Images\"\n",
    "image_files = glob.glob(os.path.join(images_path, \"*.jpg\"))\n",
    "\n",
    "# Crea cartella per salvare le feature\n",
    "os.makedirs(\"features\", exist_ok=True)\n",
    "\n",
    "# Estrazione delle feature per tutte le immagini\n",
    "features = {}\n",
    "for img_path in tqdm.tqdm(image_files):\n",
    "    image_id = os.path.basename(img_path).split('.')[0]\n",
    "    features[image_id] = extract_feature(img_path, model)\n",
    "\n",
    "# Salvataggio su file\n",
    "with open(\"features/image_features.pkl\", \"wb\") as f:\n",
    "    pickle.dump(features, f)\n",
    "\n",
    "print(\"✔️ Estrazione delle feature completata.\")\n"
   ]
  }
 ],
 "metadata": {
  "kernelspec": {
   "display_name": ".venv",
   "language": "python",
   "name": "python3"
  },
  "language_info": {
   "codemirror_mode": {
    "name": "ipython",
    "version": 3
   },
   "file_extension": ".py",
   "mimetype": "text/x-python",
   "name": "python",
   "nbconvert_exporter": "python",
   "pygments_lexer": "ipython3",
   "version": "3.11.9"
  }
 },
 "nbformat": 4,
 "nbformat_minor": 5
}
