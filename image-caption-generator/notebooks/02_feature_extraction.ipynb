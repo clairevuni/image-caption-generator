{
 "cells": [
  {
   "cell_type": "code",
   "execution_count": null,
   "id": "89e5c973",
   "metadata": {},
   "outputs": [
    {
     "ename": "SyntaxError",
     "evalue": "invalid syntax (2578589384.py, line 9)",
     "output_type": "error",
     "traceback": [
      "  \u001b[36mCell\u001b[39m\u001b[36m \u001b[39m\u001b[32mIn[18]\u001b[39m\u001b[32m, line 9\u001b[39m\n\u001b[31m    \u001b[39m\u001b[31mfrom tensorflow.keras.applications.resnet50.preprocess_input\u001b[39m\n                                                                ^\n\u001b[31mSyntaxError\u001b[39m\u001b[31m:\u001b[39m invalid syntax\n"
     ]
    }
   ],
   "source": [
    "import os\n",
    "import glob\n",
    "import pickle\n",
    "from tqdm import tqdm\n",
    "import numpy as np\n",
    "\n",
    "# --- MODIFICA 1: Importa EfficientNetV2B0 e il suo preprocess_input ---\n",
    "from tensorflow.keras.applications import EfficientNetV2B0\n",
    "# Devi importare la funzione dal modulo specifico del modello che stai usando\n",
    "from tensorflow.keras.applications.efficientnet_v2 import preprocess_input\n",
    "from tensorflow.keras.preprocessing import image\n",
    "from tensorflow.keras.models import Model"
   ]
  },
  {
   "cell_type": "code",
   "execution_count": 13,
   "id": "54526566",
   "metadata": {},
   "outputs": [
    {
     "name": "stdout",
     "output_type": "stream",
     "text": [
      "Caricamento del modello EfficientNetV2B0...\n",
      "Downloading data from https://storage.googleapis.com/tensorflow/keras-applications/efficientnet_v2/efficientnetv2-b0_notop.h5\n",
      "\u001b[1m24274472/24274472\u001b[0m \u001b[32m━━━━━━━━━━━━━━━━━━━━\u001b[0m\u001b[37m\u001b[0m \u001b[1m4s\u001b[0m 0us/step\n",
      "Modello per l'estrazione delle feature creato. Dimensione input: (224, 224), Dimensione output: 1280\n"
     ]
    }
   ],
   "source": [
    "# --- MODIFICA 2: Carica il modello EfficientNetV2B0 ---\n",
    "print(\"Caricamento del modello EfficientNetV2B0...\")\n",
    "# include_top=False: rimuove il layer di classificazione finale\n",
    "# pooling='avg': aggiunge un layer di Global Average Pooling per ottenere un vettore di feature\n",
    "base_model = EfficientNetV2B0(\n",
    "    weights='imagenet', \n",
    "    include_top=False, \n",
    "    pooling='avg'\n",
    ")\n",
    "\n",
    "# Il modello per l'estrazione è il modello base stesso\n",
    "model = base_model\n",
    "# La dimensione dell'input per EfficientNetV2B0 è 224x224\n",
    "input_size = (224, 224) \n",
    "# La dimensione del vettore di output di EfficientNetV2B0 è 1280\n",
    "output_feature_size = 1280\n",
    "\n",
    "print(f\"Modello per l'estrazione delle feature creato. Dimensione input: {input_size}, Dimensione output: {output_feature_size}\")"
   ]
  },
  {
   "cell_type": "code",
   "execution_count": null,
   "id": "31a25f08",
   "metadata": {},
   "outputs": [],
   "source": [
    "# --- MODIFICA 3: Aggiorna la funzione di estrazione ---\n",
    "def extract_feature(img_path, model, target_size):\n",
    "    \"\"\"\n",
    "    Carica un'immagine, la preprocessa per EfficientNetV2 e ne estrae le feature.\n",
    "    \"\"\"\n",
    "    try:\n",
    "        # Carica l'immagine con la dimensione richiesta dal modello\n",
    "        img = image.load_img(img_path, target_size=target_size)\n",
    "        \n",
    "        # Converte l'immagine in un array NumPy\n",
    "        x = image.img_to_array(img)\n",
    "        \n",
    "        # Aggiunge una dimensione per il \"batch\"\n",
    "        x = np.expand_dims(x, axis=0)\n",
    "        \n",
    "        # USA IL PREPROCESS_INPUT SPECIFICO DI EFFICIENTNET\n",
    "        x = preprocess_input(x)\n",
    "        \n",
    "        # Esegue l'estrazione delle feature\n",
    "        feature = model.predict(x, verbose=0)\n",
    "        \n",
    "        # L'output di GlobalAveragePooling è già un vettore (1, 1280),\n",
    "        # quindi .flatten() funziona perfettamente.\n",
    "        return feature.flatten() \n",
    "\n",
    "    except Exception as e:\n",
    "        print(f\"\\nErrore durante l'elaborazione di {img_path}: {e}\")\n",
    "        return None\n"
   ]
  },
  {
   "cell_type": "code",
   "execution_count": 14,
   "id": "015c757c",
   "metadata": {},
   "outputs": [
    {
     "name": "stdout",
     "output_type": "stream",
     "text": [
      "Trovate 8091 immagini da processare.\n"
     ]
    }
   ],
   "source": [
    "# Specifica il percorso delle immagini\n",
    "images_path = r\"..\\data\\Flickr8k_Dataset\\Images\" \n",
    "if not os.path.exists(images_path):\n",
    "    raise FileNotFoundError(f\"La cartella delle immagini non è stata trovata in: {images_path}\")\n",
    "\n",
    "image_files = glob.glob(os.path.join(images_path, \"*.jpg\"))\n",
    "print(f\"Trovate {len(image_files)} immagini da processare.\")"
   ]
  },
  {
   "cell_type": "code",
   "execution_count": null,
   "id": "ad83a47d",
   "metadata": {},
   "outputs": [
    {
     "name": "stderr",
     "output_type": "stream",
     "text": [
      "Estrazione feature: 100%|██████████| 8091/8091 [46:56<00:00,  2.87it/s]  \n"
     ]
    }
   ],
   "source": [
    "# --- MODIFICA 4: Salva le nuove feature in un file separato ---\n",
    "# È una buona pratica non sovrascrivere le vecchie feature!\n",
    "output_folder = \"features\"\n",
    "os.makedirs(output_folder, exist_ok=True) \n",
    "\n",
    "features_dict = {}\n",
    "# Ciclo di estrazione\n",
    "for img_path in tqdm(image_files, desc=\"Estrazione feature con EfficientNetV2\"):\n",
    "    image_id = os.path.basename(img_path).split('.')[0]\n",
    "    # Passa la dimensione corretta alla funzione\n",
    "    feature_vector = extract_feature(img_path, model, input_size)\n",
    "    \n",
    "    if feature_vector is not None:\n",
    "        features_dict[image_id] = feature_vector\n",
    "\n",
    "# Salva il nuovo dizionario di feature\n",
    "output_path = os.path.join(output_folder, \"image_features_efficientnet.pkl\")\n",
    "with open(output_path, \"wb\") as f:\n",
    "    pickle.dump(features_dict, f)\n",
    "\n",
    "print(f\"\\n✔️ Estrazione completata. {len(features_dict)} nuove feature salvate in '{output_path}'.\")"
   ]
  }
 ],
 "metadata": {
  "kernelspec": {
   "display_name": ".venv",
   "language": "python",
   "name": "python3"
  },
  "language_info": {
   "codemirror_mode": {
    "name": "ipython",
    "version": 3
   },
   "file_extension": ".py",
   "mimetype": "text/x-python",
   "name": "python",
   "nbconvert_exporter": "python",
   "pygments_lexer": "ipython3",
   "version": "3.11.9"
  }
 },
 "nbformat": 4,
 "nbformat_minor": 5
}
