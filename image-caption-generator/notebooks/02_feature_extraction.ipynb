{
 "cells": [
  {
   "cell_type": "code",
   "execution_count": 10,
   "id": "89e5c973",
   "metadata": {},
   "outputs": [
    {
     "name": "stdout",
     "output_type": "stream",
     "text": [
      "Caricamento del modello InceptionV3...\n"
     ]
    }
   ],
   "source": [
    "import os\n",
    "import glob\n",
    "import pickle\n",
    "from tqdm import tqdm\n",
    "import numpy as np\n",
    "\n",
    "from tensorflow.keras.applications.inception_v3 import InceptionV3, preprocess_input\n",
    "from tensorflow.keras.preprocessing import image\n",
    "from tensorflow.keras.models import Model\n",
    "\n",
    "print(\"Caricamento del modello InceptionV3...\")\n",
    "base_model = InceptionV3(weights='imagenet')"
   ]
  },
  {
   "cell_type": "code",
   "execution_count": null,
   "id": "54526566",
   "metadata": {},
   "outputs": [
    {
     "name": "stdout",
     "output_type": "stream",
     "text": [
      "Modello per l'estrazione delle feature creato.\n"
     ]
    }
   ],
   "source": [
    "model = Model(inputs=base_model.input, outputs=base_model.get_layer('avg_pool').output)\n",
    "print(\"Modello per l'estrazione delle feature creato.\")\n"
   ]
  },
  {
   "cell_type": "code",
   "execution_count": null,
   "id": "31a25f08",
   "metadata": {},
   "outputs": [],
   "source": [
    "def extract_feature(img_path, model):\n",
    "    \"\"\"\n",
    "    Carica un'immagine, la preprocessa per InceptionV3 e ne estrae le feature.\n",
    "    \"\"\"\n",
    "    try:\n",
    "        img = image.load_img(img_path, target_size=(299, 299))\n",
    "        \n",
    "        x = image.img_to_array(img)\n",
    "        \n",
    "        x = np.expand_dims(x, axis=0)\n",
    "        \n",
    "        x = preprocess_input(x)\n",
    "        \n",
    "        feature = model.predict(x, verbose=0)\n",
    "        \n",
    "        return feature.flatten() \n",
    "\n",
    "    except Exception as e:\n",
    "        print(f\"\\nErrore durante l'elaborazione di {img_path}: {e}\")\n",
    "        return None\n"
   ]
  },
  {
   "cell_type": "code",
   "execution_count": null,
   "id": "015c757c",
   "metadata": {},
   "outputs": [],
   "source": [
    "images_path = r\"..\\data\\Flickr8k_Dataset\\Images\" \n",
    "if not os.path.exists(images_path):\n",
    "    raise FileNotFoundError(f\"La cartella delle immagini non è stata trovata in: {images_path}\")"
   ]
  },
  {
   "cell_type": "code",
   "execution_count": null,
   "id": "a76dec6c",
   "metadata": {},
   "outputs": [
    {
     "name": "stdout",
     "output_type": "stream",
     "text": [
      "Trovate 8091 immagini da processare.\n"
     ]
    }
   ],
   "source": [
    "\n",
    "image_files = glob.glob(os.path.join(images_path, \"*.jpg\"))\n",
    "print(f\"Trovate {len(image_files)} immagini da processare.\")\n",
    "\n",
    "output_folder = \"features\"\n",
    "os.makedirs(output_folder, exist_ok=True)"
   ]
  },
  {
   "cell_type": "code",
   "execution_count": null,
   "id": "ad83a47d",
   "metadata": {},
   "outputs": [
    {
     "name": "stderr",
     "output_type": "stream",
     "text": [
      "Estrazione feature: 100%|██████████| 8091/8091 [46:56<00:00,  2.87it/s]  \n"
     ]
    }
   ],
   "source": [
    "\n",
    "features_dict = {}\n",
    "for img_path in tqdm(image_files, desc=\"Estrazione feature\"):\n",
    "    image_id = os.path.basename(img_path).split('.')[0]\n",
    "    feature_vector = extract_feature(img_path, model)\n",
    "    \n",
    "    if feature_vector is not None:\n",
    "        features_dict[image_id] = feature_vector"
   ]
  },
  {
   "cell_type": "code",
   "execution_count": null,
   "id": "1f12552b",
   "metadata": {},
   "outputs": [
    {
     "name": "stdout",
     "output_type": "stream",
     "text": [
      "\n",
      "✔️ Estrazione completata. 8091 feature salvate in 'features\\image_features.pkl'.\n"
     ]
    }
   ],
   "source": [
    "\n",
    "output_path = os.path.join(output_folder, \"image_features.pkl\")\n",
    "with open(output_path, \"wb\") as f:\n",
    "    pickle.dump(features_dict, f)\n",
    "\n",
    "print(f\"\\n✔️ Estrazione completata. {len(features_dict)} feature salvate in '{output_path}'.\")"
   ]
  }
 ],
 "metadata": {
  "kernelspec": {
   "display_name": ".venv",
   "language": "python",
   "name": "python3"
  },
  "language_info": {
   "codemirror_mode": {
    "name": "ipython",
    "version": 3
   },
   "file_extension": ".py",
   "mimetype": "text/x-python",
   "name": "python",
   "nbconvert_exporter": "python",
   "pygments_lexer": "ipython3",
   "version": "3.11.9"
  }
 },
 "nbformat": 4,
 "nbformat_minor": 5
}
