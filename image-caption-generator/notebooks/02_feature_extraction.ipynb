{
 "cells": [
  {
   "cell_type": "code",
   "execution_count": 2,
   "id": "89e5c973",
   "metadata": {},
   "outputs": [
    {
     "name": "stdout",
     "output_type": "stream",
     "text": [
      "Caricamento del modello InceptionV3...\n"
     ]
    }
   ],
   "source": [
    "import os\n",
    "import glob\n",
    "import pickle\n",
    "from tqdm import tqdm # Per una bella barra di avanzamento\n",
    "import numpy as np\n",
    "\n",
    "from tensorflow.keras.applications.inception_v3 import InceptionV3, preprocess_input\n",
    "from tensorflow.keras.preprocessing import image\n",
    "from tensorflow.keras.models import Model\n",
    "\n",
    "# 1. Caricare il modello InceptionV3 pre-addestrato su ImageNet\n",
    "print(\"Caricamento del modello InceptionV3...\")\n",
    "base_model = InceptionV3(weights='imagenet')"
   ]
  },
  {
   "cell_type": "code",
   "execution_count": 3,
   "id": "54526566",
   "metadata": {},
   "outputs": [
    {
     "name": "stdout",
     "output_type": "stream",
     "text": [
      "Modello per l'estrazione delle feature creato.\n"
     ]
    }
   ],
   "source": [
    "# 2. Creare un nuovo modello che prende l'input di InceptionV3 e\n",
    "#    restituisce l'output del layer 'avg_pool'.\n",
    "#    Questo layer produce un vettore di 2048 feature per ogni immagine.\n",
    "model = Model(inputs=base_model.input, outputs=base_model.get_layer('avg_pool').output)\n",
    "print(\"Modello per l'estrazione delle feature creato.\")"
   ]
  },
  {
   "cell_type": "code",
   "execution_count": 4,
   "id": "31a25f08",
   "metadata": {},
   "outputs": [],
   "source": [
    "# 3. Definire una funzione per processare una singola immagine\n",
    "def extract_feature(img_path, model):\n",
    "    \"\"\"\n",
    "    Carica un'immagine, la preprocessa per InceptionV3 e ne estrae le feature.\n",
    "    \"\"\"\n",
    "    try:\n",
    "        # InceptionV3 richiede immagini di dimensione 299x299\n",
    "        img = image.load_img(img_path, target_size=(299, 299))\n",
    "        \n",
    "        # Converte l'immagine in un array NumPy\n",
    "        x = image.img_to_array(img)\n",
    "        \n",
    "        # Aggiunge una dimensione extra per il \"batch\" (richiesto dal modello)\n",
    "        x = np.expand_dims(x, axis=0)\n",
    "        \n",
    "        # Preprocessa l'input nello stesso modo in cui InceptionV3 è stato addestrato\n",
    "        x = preprocess_input(x)\n",
    "        \n",
    "        # Esegue la predizione (estrazione feature)\n",
    "        feature = model.predict(x, verbose=0)\n",
    "        \n",
    "        # L'output di avg_pool è (1, 1, 2048). Lo rimodelliamo in un vettore semplice (2048,).\n",
    "        return feature.flatten() # .flatten() o .reshape(2048,) sono equivalenti qui\n",
    "\n",
    "    except Exception as e:\n",
    "        print(f\"\\nErrore durante l'elaborazione di {img_path}: {e}\")\n",
    "        return None\n"
   ]
  },
  {
   "cell_type": "code",
   "execution_count": null,
   "id": "015c757c",
   "metadata": {},
   "outputs": [],
   "source": [
    "# 4. Specificare il percorso delle immagini\n",
    "images_path = r\"..\\data\\Flickr8k_Dataset\\Images\" # Usa il percorso corretto\n",
    "if not os.path.exists(images_path):\n",
    "    raise FileNotFoundError(f\"La cartella delle immagini non è stata trovata in: {images_path}\")"
   ]
  },
  {
   "cell_type": "code",
   "execution_count": 12,
   "id": "a76dec6c",
   "metadata": {},
   "outputs": [
    {
     "name": "stdout",
     "output_type": "stream",
     "text": [
      "Downloading data from https://storage.googleapis.com/tensorflow/keras-applications/inception_v3/inception_v3_weights_tf_dim_ordering_tf_kernels.h5\n",
      "\u001b[1m96112376/96112376\u001b[0m \u001b[32m━━━━━━━━━━━━━━━━━━━━\u001b[0m\u001b[37m\u001b[0m \u001b[1m31s\u001b[0m 0us/step\n"
     ]
    },
    {
     "name": "stderr",
     "output_type": "stream",
     "text": [
      "100%|██████████| 8091/8091 [27:58<00:00,  4.82it/s]  \n"
     ]
    },
    {
     "name": "stdout",
     "output_type": "stream",
     "text": [
      "✔️ Estrazione delle feature completata.\n"
     ]
    }
   ],
   "source": [
    "from tensorflow.keras.applications.inception_v3 import InceptionV3, preprocess_input\n",
    "from tensorflow.keras.preprocessing import image\n",
    "from tensorflow.keras.models import Model\n",
    "import numpy as np\n",
    "import os\n",
    "import glob\n",
    "import tqdm\n",
    "import pickle\n",
    "\n",
    "# Modello CNN pre-addestrato (InceptionV3)\n",
    "base_model = InceptionV3(weights='imagenet')\n",
    "model = Model(inputs=base_model.input, outputs=base_model.get_layer('avg_pool').output)\n",
    "\n",
    "# Funzione per estrarre le feature da una singola immagine\n",
    "def extract_feature(img_path, model):\n",
    "    img = image.load_img(img_path, target_size=(299, 299))  # Inception richiede questa dimensione\n",
    "    x = image.img_to_array(img)\n",
    "    x = np.expand_dims(x, axis=0)\n",
    "    x = preprocess_input(x)\n",
    "    feature = model.predict(x, verbose=0)\n",
    "    return feature.reshape(2048,)\n",
    "\n",
    "# Percorso delle immagini\n",
    "images_path = \"../data/Flickr8k_Dataset/Images\"\n",
    "image_files = glob.glob(os.path.join(images_path, \"*.jpg\"))\n",
    "\n",
    "# Crea cartella per salvare le feature\n",
    "os.makedirs(\"features\", exist_ok=True)\n",
    "\n",
    "# Estrazione delle feature per tutte le immagini\n",
    "features = {}\n",
    "for img_path in tqdm.tqdm(image_files):\n",
    "    image_id = os.path.basename(img_path).split('.')[0]\n",
    "    features[image_id] = extract_feature(img_path, model)\n",
    "\n",
    "# Salvataggio su file\n",
    "with open(\"features/image_features.pkl\", \"wb\") as f:\n",
    "    pickle.dump(features, f)\n",
    "\n",
    "print(\"✔️ Estrazione delle feature completata.\")\n"
   ]
  }
 ],
 "metadata": {
  "kernelspec": {
   "display_name": ".venv",
   "language": "python",
   "name": "python3"
  },
  "language_info": {
   "codemirror_mode": {
    "name": "ipython",
    "version": 3
   },
   "file_extension": ".py",
   "mimetype": "text/x-python",
   "name": "python",
   "nbconvert_exporter": "python",
   "pygments_lexer": "ipython3",
   "version": "3.11.9"
  }
 },
 "nbformat": 4,
 "nbformat_minor": 5
}
