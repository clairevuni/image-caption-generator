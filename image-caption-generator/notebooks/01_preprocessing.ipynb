{
 "cells": [
  {
   "cell_type": "code",
   "execution_count": 1,
   "id": "9fc85499",
   "metadata": {},
   "outputs": [
    {
     "name": "stdout",
     "output_type": "stream",
     "text": [
      "This is a Test\n",
      "let's see some images!\n"
     ]
    }
   ],
   "source": [
    "import os \n",
    "\n",
    "print(\"This is a Test\")\n",
    "\n",
    "print(\"let's see some images!\")\n",
    "\n",
    "import matplotlib.pyplot as plt  # for plotting the images!\n",
    "import matplotlib.image as mpimg # for reading the images!\n"
   ]
  }
 ],
 "metadata": {
  "kernelspec": {
   "display_name": ".venv",
   "language": "python",
   "name": "python3"
  },
  "language_info": {
   "codemirror_mode": {
    "name": "ipython",
    "version": 3
   },
   "file_extension": ".py",
   "mimetype": "text/x-python",
   "name": "python",
   "nbconvert_exporter": "python",
   "pygments_lexer": "ipython3",
   "version": "3.11.9"
  }
 },
 "nbformat": 4,
 "nbformat_minor": 5
}
